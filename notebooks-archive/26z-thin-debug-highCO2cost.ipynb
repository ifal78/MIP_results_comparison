{
  "cells": [
    {
      "cell_type": "raw",
      "metadata": {},
      "source": [
        "---\n",
        "title: 26 zone thin high CO2 cost\n",
        "format: dashboard\n",
        "---"
      ],
      "id": "1584892b"
    },
    {
      "cell_type": "code",
      "metadata": {},
      "source": [
        "#| output: false\n",
        "folder = \"26z-thin-debug-highCCScost\"\n",
        "import os\n",
        "from typing import Dict, List\n",
        "\n",
        "import pandas as pd\n",
        "import altair as alt\n",
        "from pathlib import Path\n",
        "from fig_functions import (\n",
        "    fix_tx_line_names,\n",
        "    load_genx_operations_data,\n",
        "    load_data,\n",
        "    chart_total_cap,\n",
        "    chart_regional_cap,\n",
        "    chart_total_gen,\n",
        "    chart_regional_gen,\n",
        "    chart_tx_expansion,\n",
        "    chart_emissions,\n",
        "    chart_dispatch,\n",
        "    chart_wind_dispatch,\n",
        "    chart_op_cost,\n",
        "    chart_op_nse\n",
        ")\n",
        "\n",
        "alt.renderers.enable(\"html\")\n",
        "alt.data_transformers.disable_max_rows()\n",
        "\n",
        "cwd = Path.cwd()\n",
        "data_path = cwd.parent / folder\n",
        "\n",
        "\n",
        "\n",
        "fig_num = 0\n",
        "\n",
        "cap = load_data(data_path, \"resource_capacity.csv\")\n",
        "cap = cap.query(\"unit=='MW' and not tech_type.isna()\")\n",
        "cap[\"additions\"] = cap[\"end_value\"] - cap[\"start_value\"]\n",
        "\n",
        "gen = load_data(data_path, \"generation.csv\")\n",
        "\n",
        "tx = load_data(data_path, \"transmission.csv\")\n",
        "\n",
        "\n",
        "tx[\"start_region\"] = tx[\"line_name\"].str.split(\"_to_\").str[0]\n",
        "tx[\"dest_region\"] = tx[\"line_name\"].str.split(\"_to_\").str[1]\n",
        "\n",
        "first_year = tx[\"planning_year\"].min()\n",
        "starting_tx = tx.loc[tx[\"planning_year\"] == first_year, :]\n",
        "starting_tx = starting_tx.rename(columns={\"start_value\": \"value\"})\n",
        "starting_tx[\"planning_year\"] = 2023\n",
        "\n",
        "tx_exp = load_data(data_path, \"transmission_expansion.csv\")\n",
        "tx_exp[\"start_region\"] = tx_exp[\"line_name\"].str.split(\"_to_\").str[0]\n",
        "tx_exp[\"dest_region\"] = tx_exp[\"line_name\"].str.split(\"_to_\").str[1]\n",
        "\n",
        "emiss = load_data(data_path, \"emissions.csv\")\n",
        "\n",
        "emiss.loc[emiss[\"unit\"] == \"kg\", \"value\"] /= 1000\n",
        "\n",
        "\n",
        "dispatch = load_data(data_path, \"dispatch.csv\")\n",
        "\n",
        "dispatch = dispatch.groupby(\n",
        "    [\n",
        "        \"planning_year\",\n",
        "        \"model\",\n",
        "        \"agg_zone\",\n",
        "        \"zone\",\n",
        "        \"tech_type\",\n",
        "        \"resource_name\",\n",
        "        \"hour\",\n",
        "    ],\n",
        "    as_index=False,\n",
        ")[\"value\"].sum()\n",
        "group_cols = [\"planning_year\", \"model\", \"agg_zone\", \"zone\", \"tech_type\"]\n",
        "hours = dispatch[\"hour\"].unique()\n",
        "index_cols = [\"resource_name\"]\n",
        "df_list = []\n",
        "for _, _df in dispatch.groupby(group_cols):\n",
        "    multi_index = pd.MultiIndex.from_product(\n",
        "        [_df[col].unique() for col in index_cols] + [hours],\n",
        "        names=index_cols + [\"hour\"],\n",
        "    )\n",
        "    _df = _df.set_index(index_cols + [\"hour\"])\n",
        "    _df = _df.reindex(index=multi_index, fill_value=0)\n",
        "    _df = _df.reset_index()\n",
        "    for val, col in zip(_, group_cols):\n",
        "        _df[col] = val\n",
        "    df_list.append(_df)\n",
        "\n",
        "dispatch = pd.concat(df_list, ignore_index=True)"
      ],
      "id": "5e4f7852",
      "execution_count": null,
      "outputs": []
    },
    {
      "cell_type": "markdown",
      "metadata": {},
      "source": [
        "# Capacity and Generation\n",
        "\n",
        "## Row\n",
        "\n",
        "#### Column {.tabset}"
      ],
      "id": "ba2a8a41"
    },
    {
      "cell_type": "code",
      "metadata": {
        "title": "Total Capacity"
      },
      "source": [
        "chart = chart_total_cap(cap)\n",
        "chart"
      ],
      "id": "5545b818",
      "execution_count": null,
      "outputs": []
    },
    {
      "cell_type": "code",
      "metadata": {
        "title": "Regional Capacity"
      },
      "source": [
        "chart = chart_regional_cap(cap)\n",
        "chart"
      ],
      "id": "cdec1d09",
      "execution_count": null,
      "outputs": []
    },
    {
      "cell_type": "markdown",
      "metadata": {},
      "source": [
        "#### Column {.tabset}"
      ],
      "id": "b7cc7f65"
    },
    {
      "cell_type": "code",
      "metadata": {
        "title": "Total Generation"
      },
      "source": [
        "chart = chart_total_gen(gen, cap)\n",
        "chart"
      ],
      "id": "a152862c",
      "execution_count": null,
      "outputs": []
    },
    {
      "cell_type": "code",
      "metadata": {
        "title": "Regional Generation"
      },
      "source": [
        "chart = chart_regional_gen(gen, cap)\n",
        "chart"
      ],
      "id": "5e6367a6",
      "execution_count": null,
      "outputs": []
    },
    {
      "cell_type": "markdown",
      "metadata": {},
      "source": [
        "# Transmission Expansion\n",
        "## Row"
      ],
      "id": "e6631367"
    },
    {
      "cell_type": "code",
      "metadata": {
        "title": "Transmission expansion"
      },
      "source": [
        "data = pd.concat([starting_tx, tx_exp])\n",
        "chart = chart_tx_expansion(data)\n",
        "chart"
      ],
      "id": "4c8b249e",
      "execution_count": null,
      "outputs": []
    },
    {
      "cell_type": "markdown",
      "metadata": {},
      "source": [
        "# Emissions"
      ],
      "id": "ae0841cd"
    },
    {
      "cell_type": "code",
      "metadata": {
        "title": "Emissions"
      },
      "source": [
        "chart = chart_emissions(emiss)\n",
        "chart"
      ],
      "id": "1278b032",
      "execution_count": null,
      "outputs": []
    },
    {
      "cell_type": "markdown",
      "metadata": {},
      "source": [
        "# Dispatch\n",
        "\n",
        "## Row {.tabset}"
      ],
      "id": "8ca74d17"
    },
    {
      "cell_type": "code",
      "metadata": {
        "title": "2030 Dispatch"
      },
      "source": [
        "data = dispatch.query(\"planning_year==2030\").groupby([\"model\", \"tech_type\", \"agg_zone\", \"hour\"], as_index=False)[\n",
        "    \"value\"\n",
        "].sum()\n",
        "chart = chart_dispatch(data)\n",
        "chart"
      ],
      "id": "9ea9d3b3",
      "execution_count": null,
      "outputs": []
    },
    {
      "cell_type": "code",
      "metadata": {
        "title": "2040 Dispatch"
      },
      "source": [
        "data = dispatch.query(\"planning_year==2040\").groupby([\"model\", \"tech_type\", \"agg_zone\", \"hour\"], as_index=False)[\n",
        "    \"value\"\n",
        "].sum()\n",
        "chart = chart_dispatch(data)\n",
        "chart"
      ],
      "id": "74435e1d",
      "execution_count": null,
      "outputs": []
    },
    {
      "cell_type": "code",
      "metadata": {
        "title": "2050 Dispatch"
      },
      "source": [
        "data = dispatch.query(\"planning_year==2050\").groupby([\"model\", \"tech_type\", \"agg_zone\", \"hour\"], as_index=False)[\n",
        "    \"value\"\n",
        "].sum()\n",
        "chart = chart_dispatch(data)\n",
        "chart"
      ],
      "id": "261d74e4",
      "execution_count": null,
      "outputs": []
    },
    {
      "cell_type": "code",
      "metadata": {
        "title": "2030 Wind Dispatch"
      },
      "source": [
        "wind_dispatch = dispatch.query(\"resource_name.str.contains('landbasedwind')\")\n",
        "wind_dispatch[\"cluster\"] = wind_dispatch[\"resource_name\"].str.split(\"_\").str[-1]\n",
        "data = wind_dispatch.query(\"planning_year==2030\").groupby([\"model\", \"tech_type\", \"cluster\", \"zone\", \"hour\"], as_index=False)[\n",
        "    \"value\"\n",
        "].sum()\n",
        "chart = chart_wind_dispatch(data)\n",
        "chart"
      ],
      "id": "2cd04341",
      "execution_count": null,
      "outputs": []
    },
    {
      "cell_type": "code",
      "metadata": {
        "title": "2040 Wind Dispatch"
      },
      "source": [
        "data = wind_dispatch.query(\"planning_year==2040\").groupby([\"model\", \"tech_type\", \"cluster\", \"zone\", \"hour\"], as_index=False)[\n",
        "    \"value\"\n",
        "].sum()\n",
        "chart = chart_wind_dispatch(data)\n",
        "chart"
      ],
      "id": "b36e3138",
      "execution_count": null,
      "outputs": []
    },
    {
      "cell_type": "code",
      "metadata": {
        "title": "2050 Wind Dispatch"
      },
      "source": [
        "data = wind_dispatch.query(\"planning_year==2050\").groupby([\"model\", \"tech_type\", \"cluster\", \"zone\", \"hour\"], as_index=False)[\n",
        "    \"value\"\n",
        "].sum()\n",
        "chart = chart_wind_dispatch(data)\n",
        "chart"
      ],
      "id": "4063888c",
      "execution_count": null,
      "outputs": []
    },
    {
      "cell_type": "markdown",
      "metadata": {},
      "source": [
        "# Operational Results\n",
        "## Row {.tabset}"
      ],
      "id": "89be2216"
    },
    {
      "cell_type": "code",
      "metadata": {
        "title": "Operational costs"
      },
      "source": [
        "op_costs = load_genx_operations_data(data_path, \"costs.csv\")\n",
        "chart = chart_op_cost(op_costs)\n",
        "chart"
      ],
      "id": "4011a1a6",
      "execution_count": null,
      "outputs": []
    },
    {
      "cell_type": "code",
      "metadata": {
        "title": "Operational NSE"
      },
      "source": [
        "op_nse = load_genx_operations_data(data_path, \"nse.csv\")\n",
        "chart = chart_op_nse(op_nse)\n",
        "chart"
      ],
      "id": "7c4431fd",
      "execution_count": null,
      "outputs": []
    }
  ],
  "metadata": {
    "kernelspec": {
      "name": "python3",
      "language": "python",
      "display_name": "Python 3 (ipykernel)"
    }
  },
  "nbformat": 4,
  "nbformat_minor": 5
}